{
 "cells": [
  {
   "cell_type": "code",
   "execution_count": 1,
   "metadata": {},
   "outputs": [],
   "source": [
    "from bs4 import BeautifulSoup as bs\n",
    "import requests\n",
    "import pandas as pd\n",
    "from urllib2 import urlopen\n",
    "import csv"
   ]
  },
  {
   "cell_type": "code",
   "execution_count": 13,
   "metadata": {},
   "outputs": [],
   "source": [
    "rows = []\n",
    "cqc = ['RYR', 'RYJ', 'RXW', 'RXR', 'RXQ', 'RXP', 'RXN', 'RXL', 'RXK', 'RXH', 'RXF', 'RXC', 'RX1', 'RWY', 'RWW', 'RWP', 'RWJ', 'RWH', 'RWG', 'RWF', 'RWE', 'RWD', 'RWA', 'RW6', 'RVY', 'RVW', 'RVV', 'RVR', 'RVJ', 'RTX', 'RTR', 'RTP', 'RTK', 'RTH', 'RTG', 'RTF', 'RTE', 'RTD', 'RRV', 'RRK', 'RRF', 'RR8', 'RR7', 'RR1', 'RQX', 'RQW', 'RQM', 'RQ8', 'RQ6', 'RQ3', 'RPA', 'RP6', 'RP5', 'RNZ', 'RNS', 'RNQ', 'RNL', 'RNA', 'RN7', 'RN5', 'RN3', 'RMP', 'RMC', 'RM3', 'RM1', 'RLT', 'RLQ', 'RLN', 'RL4', 'RKE', 'RKB', 'RK9', 'RK5', 'RJZ', 'RJR', 'RJN', 'RJL', 'RJF', 'RJE', 'RJC', 'RJ7', 'RJ6', 'RJ2', 'RJ1', 'RHW', 'RHU', 'RHQ', 'RHM', 'RH8', 'RGT', 'RGR', 'RGQ', 'RGP', 'RGN', 'RFS', 'RFR', 'RFF', 'RF4', 'REP', 'REM', 'REF', 'RE9', 'RDZ', 'RDU', 'RDE', 'RDD', 'RD8', 'RD3', 'RD1', 'RCX', 'RCU', 'RCF', 'RCD', 'RCB', 'RC9', 'RC1', 'RBZ', 'RBT', 'RBS', 'RBN', 'RBL', 'RBK', 'RBD', 'RBA', 'RAX', 'RAS', 'RAP', 'RAL', 'RAJ', 'RAE', 'RA9', 'RA7', 'RA4', 'RA3', 'RA2', 'R1K', 'R1H', 'R1F', 'R0A']\n",
    "    \n",
    "for code in cqc:\n",
    "    url = \"http://www.cqc.org.uk/provider/\" + code \n",
    "    r = requests.get(url)\n",
    "    soup = bs(r.content, \"lxml\")\n",
    "    body = soup.find(\"h3\")\n",
    "    for strong in body.find_all(\"strong\"):\n",
    "        rows.append(strong.text)"
   ]
  },
  {
   "cell_type": "code",
   "execution_count": 14,
   "metadata": {},
   "outputs": [
    {
     "name": "stdout",
     "output_type": "stream",
     "text": [
      "[u'Outstanding', u'Requires improvement', u'Requires improvement', u'Good', u'Requires improvement', u'Requires improvement', u'Requires improvement', u'Requires improvement', u'Requires improvement', u'Inadequate', u'Requires improvement', u'Requires improvement', u'Good', u'Requires improvement', u'Requires improvement', u'Inadequate', u'Requires improvement', u'Requires improvement', u'Requires improvement', u'Requires improvement', u'Requires improvement', u'Inadequate', u'Requires improvement', u'Requires improvement', u'Requires improvement', u'Good', u'Requires improvement', u'Requires improvement', u'Requires improvement', u'Good', u'Good', u'Good', u'Good', u'Good', u'Good', u'Outstanding', u'Requires improvement', u'Outstanding', u'Good', u'Good', u'Good', u'Good', u'Good', u'Requires improvement', u'Good', u'Requires improvement', u'Good', u'Good', u'Good', u'Outstanding', u'Requires improvement', u'Good', u'Requires improvement', u'Requires improvement', u'Good', u'Requires improvement', u'Requires improvement', u'Requires improvement', u'Requires improvement', u'Good', u'Requires improvement', u'Good', u'Good', u'Outstanding', u'Requires improvement', u'Requires improvement', u'Requires improvement', u'Good', u'Requires improvement', u'Good', u'Requires improvement', u'Requires improvement', u'Requires improvement', u'Requires improvement', u'Good', u'Good', u'Inadequate', u'Requires improvement', u'Requires improvement', u'Good', u'Inadequate', u'Requires improvement', u'Requires improvement', u'Good', u'Good', u'Requires improvement', u'Good', u'Good', u'Good', u'Good', u'Outstanding', u'Good', u'Good', u'Good', u'Good', u'Requires improvement', u'Good', u'Requires improvement', u'Good', u'Requires improvement', u'Inadequate', u'Requires improvement', u'Requires improvement', u'Outstanding', u'Requires improvement', u'Good', u'Good', u'Good', u'Requires improvement', u'Requires improvement', u'Good', u'Requires improvement', u'Good', u'Requires improvement', u'Good', u'Requires improvement', u'Requires improvement', u'Good', u'Good', u'Good', u'Requires improvement', u'Requires improvement', u'Requires improvement', u'Good', u'Requires improvement', u'Requires improvement', u'Requires improvement', u'Good', u'Requires improvement', u'Requires improvement', u'Good', u'Outstanding', u'Requires improvement', u'Requires improvement', u'Good', u'Requires improvement', u'Requires improvement', u'Inadequate']\n"
     ]
    }
   ],
   "source": [
    "print rows"
   ]
  },
  {
   "cell_type": "code",
   "execution_count": null,
   "metadata": {},
   "outputs": [],
   "source": []
  }
 ],
 "metadata": {
  "kernelspec": {
   "display_name": "Python 2",
   "language": "python",
   "name": "python2"
  },
  "language_info": {
   "codemirror_mode": {
    "name": "ipython",
    "version": 2
   },
   "file_extension": ".py",
   "mimetype": "text/x-python",
   "name": "python",
   "nbconvert_exporter": "python",
   "pygments_lexer": "ipython2",
   "version": "2.7.14"
  }
 },
 "nbformat": 4,
 "nbformat_minor": 2
}
